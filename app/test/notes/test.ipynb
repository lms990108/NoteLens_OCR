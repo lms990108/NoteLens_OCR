{
 "cells": [
  {
   "cell_type": "code",
   "execution_count": 7,
   "metadata": {},
   "outputs": [
    {
     "name": "stdout",
     "output_type": "stream",
     "text": [
      "[2024/05/29 12:43:58] ppocr DEBUG: Namespace(alpha=1.0, alphacolor=(255, 255, 255), benchmark=False, beta=1.0, binarize=False, cls_batch_num=6, cls_image_shape='3, 48, 192', cls_model_dir='C:\\\\Users\\\\JuYeongun/.paddleocr/whl\\\\cls\\\\ch_ppocr_mobile_v2.0_cls_infer', cls_thresh=0.9, cpu_threads=10, crop_res_save_dir='./output', det=True, det_algorithm='DB', det_box_type='quad', det_db_box_thresh=0.6, det_db_score_mode='fast', det_db_thresh=0.3, det_db_unclip_ratio=1.5, det_east_cover_thresh=0.1, det_east_nms_thresh=0.2, det_east_score_thresh=0.8, det_limit_side_len=960, det_limit_type='max', det_model_dir='C:\\\\Users\\\\JuYeongun/.paddleocr/whl\\\\det\\\\ml\\\\Multilingual_PP-OCRv3_det_infer', det_pse_box_thresh=0.85, det_pse_min_area=16, det_pse_scale=1, det_pse_thresh=0, det_sast_nms_thresh=0.2, det_sast_score_thresh=0.5, draw_img_save_dir='./inference_results', drop_score=0.5, e2e_algorithm='PGNet', e2e_char_dict_path='./ppocr/utils/ic15_dict.txt', e2e_limit_side_len=768, e2e_limit_type='max', e2e_model_dir=None, e2e_pgnet_mode='fast', e2e_pgnet_score_thresh=0.5, e2e_pgnet_valid_set='totaltext', enable_mkldnn=False, fourier_degree=5, gpu_id=0, gpu_mem=500, help='==SUPPRESS==', image_dir=None, image_orientation=False, invert=False, ir_optim=True, kie_algorithm='LayoutXLM', label_list=['0', '180'], lang='korean', layout=True, layout_dict_path=None, layout_model_dir=None, layout_nms_threshold=0.5, layout_score_threshold=0.5, max_batch_size=10, max_text_length=25, merge_no_span_structure=True, min_subgraph_size=15, mode='structure', ocr=True, ocr_order_method=None, ocr_version='PP-OCRv4', output='./output', page_num=0, precision='fp32', process_id=0, re_model_dir=None, rec=True, rec_algorithm='SVTR_LCNet', rec_batch_num=6, rec_char_dict_path='d:\\\\Anaconda\\\\envs\\\\notelens_ocr\\\\lib\\\\site-packages\\\\paddleocr\\\\ppocr\\\\utils\\\\dict\\\\korean_dict.txt', rec_image_inverse=True, rec_image_shape='3, 48, 320', rec_model_dir='C:\\\\Users\\\\JuYeongun/.paddleocr/whl\\\\rec\\\\korean\\\\korean_PP-OCRv4_rec_infer', recovery=False, save_crop_res=False, save_log_path='./log_output/', scales=[8, 16, 32], ser_dict_path='../train_data/XFUND/class_list_xfun.txt', ser_model_dir=None, show_log=True, sr_batch_num=1, sr_image_shape='3, 32, 128', sr_model_dir=None, structure_version='PP-StructureV2', table=True, table_algorithm='TableAttn', table_char_dict_path=None, table_max_len=488, table_model_dir=None, total_process_num=1, type='ocr', use_angle_cls=True, use_dilation=False, use_gpu=False, use_mp=False, use_npu=False, use_onnx=False, use_pdf2docx_api=False, use_pdserving=False, use_space_char=True, use_tensorrt=False, use_visual_backbone=True, use_xpu=False, vis_font_path='./doc/fonts/simfang.ttf', warmup=False)\n",
      "[2024/05/29 12:44:00] ppocr DEBUG: dt_boxes num : 6, elapsed : 0.017995595932006836\n",
      "[2024/05/29 12:44:00] ppocr DEBUG: cls num  : 6, elapsed : 0.013997316360473633\n",
      "[2024/05/29 12:44:00] ppocr DEBUG: rec_res num  : 6, elapsed : 0.15697956085205078\n",
      "result============\n",
      "[[[[[22.0, 11.0], [49.0, 11.0], [49.0, 26.0], [22.0, 26.0]], ('정형', 0.9975125193595886)], [[[55.0, 11.0], [97.0, 11.0], [97.0, 26.0], [55.0, 26.0]], ('증명은', 0.9999173283576965)], [[[105.0, 14.0], [120.0, 14.0], [120.0, 25.0], [105.0, 25.0]], ('좀', 0.8437201976776123)], [[[124.0, 12.0], [139.0, 12.0], [139.0, 23.0], [124.0, 23.0]], ('더', 0.9999903440475464)], [[[147.0, 11.0], [188.0, 11.0], [188.0, 26.0], [147.0, 26.0]], ('자세히', 0.9998523592948914)], [[[194.0, 10.0], [253.0, 10.0], [253.0, 25.0], [194.0, 25.0]], ('기술한다', 0.9999582171440125)]]]\n",
      "extracted_texts============\n",
      "['정형', '증명은', '좀', '더', '자세히', '기술한다']\n",
      "result_texts============\n",
      "정형 증명은 좀 더 자세히 기술한다 \n"
     ]
    }
   ],
   "source": [
    "from paddleocr import PaddleOCR\n",
    "from PIL import Image\n",
    "\n",
    "# 이미지 경로 설정\n",
    "img_path = \"test_mongo_id.jpg\"\n",
    "\n",
    "# 한국어로 PaddleOCR 초기화\n",
    "ocr = PaddleOCR(use_angle_cls=True, lang='korean')\n",
    "\n",
    "# 이미지에서 텍스트 인식\n",
    "result = ocr.ocr(img_path, cls=True)\n",
    "\n",
    "# 이미지 열기\n",
    "image = Image.open(img_path).convert('RGB')\n",
    "\n",
    "print(\"result============\") \n",
    "print(result)\n",
    "\n",
    "extracted_texts = []\n",
    "\n",
    "for line in result:\n",
    "    for word in line:\n",
    "        extracted_texts.append(word[1][0])  # 텍스트 정보만 추출\n",
    "\n",
    "print(\"extracted_texts============\")\n",
    "print(extracted_texts)\n",
    "\n",
    "result_texts = \"\"\n",
    "for word in extracted_texts:\n",
    "    result_texts += word + \" \"\n",
    "\n",
    "print(\"result_texts============\")\n",
    "print(result_texts)"
   ]
  },
  {
   "cell_type": "code",
   "execution_count": null,
   "metadata": {},
   "outputs": [],
   "source": [
    "[\n",
    "    [\n",
    "        [22.0, 11.0], \n",
    "        [49.0, 11.0], \n",
    "        [49.0, 26.0], \n",
    "        [22.0, 26.0]\n",
    "    ], \n",
    "    ('정형', 0.9975125193595886)\n",
    "]"
   ]
  }
 ],
 "metadata": {
  "kernelspec": {
   "display_name": "cuda11.7",
   "language": "python",
   "name": "python3"
  },
  "language_info": {
   "codemirror_mode": {
    "name": "ipython",
    "version": 3
   },
   "file_extension": ".py",
   "mimetype": "text/x-python",
   "name": "python",
   "nbconvert_exporter": "python",
   "pygments_lexer": "ipython3",
   "version": "3.8.19"
  }
 },
 "nbformat": 4,
 "nbformat_minor": 2
}
